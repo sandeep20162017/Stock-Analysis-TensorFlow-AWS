{
 "cells": [
  {
   "cell_type": "markdown",
   "metadata": {},
   "source": [
    "# Table of Contents\n",
    "* [Set Global Workflow Variables](#Set-Global-Workflow-Variables)\n",
    "* [Import Dependencies](#Import-Dependencies)\n",
    "* [Load Data](#Load-Data)\n",
    "    * [Main Data](#Main-Data)\n",
    "    * [Aditional Data](#Aditional-Data)\n",
    "    * [Filter on Rows with a Sentiment](#Filter-on-Rows-with-a-Sentiment)\n",
    "* [Exploratory Analysis](#Exploratory-Analysis)\n",
    "    * [Info and Counts](#Info-and-Counts)\n",
    "    * [Wordclouds for Bullish and Bearish](#Wordclouds-for-Bullish-and-Bearish)\n",
    "    * [Exploratory Sentiment Analysis](#Exploratory-Sentiment-Analysis)\n",
    "* [Data Preprocessing](#Data-Preprocessing)\n",
    "    * [Data Cleaning, Tokenization, Remove Punctuation, Remove StopWords, Lemmatize](#Data-Cleaning,-Tokenization,-Remove-Punctuation,-Remove-StopWords,-Lemmatize)\n",
    "* [Model Building](#Model-Building) \n",
    "* [Hyper Parameter Tuning using GridSearch](#Hyper-Parameter-Tuning-using-GridSearch) \n",
    "* [Model Persistence](#Model-Persistence) \n",
    "* [Manual Tests](#Manual-Tests) "
   ]
  },
  {
   "cell_type": "markdown",
   "metadata": {},
   "source": [
    "# Set Global Workflow Variables"
   ]
  },
  {
   "cell_type": "code",
   "execution_count": 1,
   "metadata": {},
   "outputs": [],
   "source": [
    "install_enabled = False\n",
    "add_external_data_enabled = True\n",
    "sentimentAnalysis_enabled = True\n",
    "gridsearch_enabled = False"
   ]
  },
  {
   "cell_type": "markdown",
   "metadata": {},
   "source": [
    "# Import Dependencies"
   ]
  },
  {
   "cell_type": "code",
   "execution_count": 2,
   "metadata": {},
   "outputs": [],
   "source": [
    "if (install_enabled == True):\n",
    "    !pip install -q numpy\n",
    "    !pip install -q pandas\n",
    "    !pip install -q nltk\n",
    "    !pip install -q wordcloud\n",
    "    !pip install -q sklearn\n",
    "    !pip install -q xgboost\n",
    "    !pip install -q dill"
   ]
  },
  {
   "cell_type": "code",
   "execution_count": 3,
   "metadata": {},
   "outputs": [
    {
     "name": "stdout",
     "output_type": "stream",
     "text": [
      "[nltk_data] Downloading package punkt to /home/markus/nltk_data...\n",
      "[nltk_data]   Package punkt is already up-to-date!\n",
      "[nltk_data] Downloading package stopwords to /home/markus/nltk_data...\n",
      "[nltk_data]   Package stopwords is already up-to-date!\n",
      "[nltk_data] Downloading package wordnet to /home/markus/nltk_data...\n",
      "[nltk_data]   Package wordnet is already up-to-date!\n",
      "[nltk_data] Downloading package averaged_perceptron_tagger to\n",
      "[nltk_data]     /home/markus/nltk_data...\n",
      "[nltk_data]   Package averaged_perceptron_tagger is already up-to-\n",
      "[nltk_data]       date!\n"
     ]
    }
   ],
   "source": [
    "import numpy as np\n",
    "import pandas as pd\n",
    "import nltk\n",
    "import sklearn\n",
    "import re\n",
    "import os    \n",
    "from chardet import detect\n",
    "import string\n",
    "\n",
    "nltk.download('punkt')\n",
    "nltk.download('stopwords')\n",
    "nltk.download('wordnet')\n",
    "nltk.download('averaged_perceptron_tagger')\n",
    "\n",
    "pd.set_option('display.max_columns', 5000) \n",
    "\n",
    "# import warnings filter\n",
    "import warnings\n",
    "# ignore all future warnings\n",
    "warnings.simplefilter(action='ignore', category=FutureWarning)\n",
    "warnings.filterwarnings('ignore')"
   ]
  },
  {
   "cell_type": "markdown",
   "metadata": {},
   "source": [
    "# Load Data"
   ]
  },
  {
   "cell_type": "markdown",
   "metadata": {},
   "source": [
    "## Main Data"
   ]
  },
  {
   "cell_type": "code",
   "execution_count": 4,
   "metadata": {},
   "outputs": [
    {
     "name": "stdout",
     "output_type": "stream",
     "text": [
      "                   id            createdAt    body  symbol stocktwitsSentiment\n",
      "count          505206               505206  505206  505206              505206\n",
      "unique         505206               425364  428694      52                   3\n",
      "top     IBM-193665816  2020-01-30 15:00:02    $SPY     SPY                None\n",
      "freq                1                   21    2277  121624              286093\n",
      "<class 'pandas.core.frame.DataFrame'>\n",
      "Int64Index: 505206 entries, 0 to 505205\n",
      "Data columns (total 5 columns):\n",
      "id                     505206 non-null object\n",
      "createdAt              505206 non-null object\n",
      "body                   505206 non-null object\n",
      "symbol                 505206 non-null object\n",
      "stocktwitsSentiment    505206 non-null object\n",
      "dtypes: object(5)\n",
      "memory usage: 23.1+ MB\n",
      "None\n"
     ]
    }
   ],
   "source": [
    "# read input file\n",
    "stw = pd.read_csv('input/Stocktwits.csv')\n",
    "stw = stw.drop_duplicates()\n",
    "print(stw.describe())\n",
    "print(stw.info())"
   ]
  },
  {
   "cell_type": "markdown",
   "metadata": {},
   "source": [
    "## Add External/Additional Data"
   ]
  },
  {
   "cell_type": "code",
   "execution_count": 5,
   "metadata": {},
   "outputs": [],
   "source": [
    "if (add_external_data_enabled == True):\n",
    "    # get file encoding type\n",
    "    def get_encoding_type(file):\n",
    "        with open(file, 'rb') as f:\n",
    "            rawdata = f.read()\n",
    "        return detect(rawdata)['encoding']\n",
    "\n",
    "    # add content of additional bullish and bearish files to dataframe\n",
    "\n",
    "    # Bullish\n",
    "    add_bullish = []\n",
    "    file = open('input/bullish.txt', 'r', encoding='Windows-1252') \n",
    "    for line in file:\n",
    "      # remove \\n at the end of the\n",
    "      line = line.strip()\n",
    "      add_bullish.append(line)\n",
    "    df_add_bull = pd.DataFrame(add_bullish)\n",
    "    df_add_bull = df_add_bull.rename(columns={df_add_bull.columns[0]: \"body\" })\n",
    "    df_add_bull['stocktwitsSentiment'] = 'Bullish'\n",
    "\n",
    "    # Bearish\n",
    "    add_bearish = []\n",
    "    file = open('input/bearish.txt', 'r', encoding='Windows-1252')\n",
    "    for line in file:\n",
    "      # remove \\n at the end of the\n",
    "      line = line.strip()\n",
    "      add_bearish.append(line)\n",
    "    df_add_bear = pd.DataFrame(add_bearish)\n",
    "    df_add_bear = df_add_bear.rename(columns={df_add_bear.columns[0]: \"body\" })\n",
    "    df_add_bear['stocktwitsSentiment'] = 'Bearish'"
   ]
  },
  {
   "cell_type": "markdown",
   "metadata": {},
   "source": [
    "## Filter on Rows with a Sentiment"
   ]
  },
  {
   "cell_type": "code",
   "execution_count": 6,
   "metadata": {},
   "outputs": [
    {
     "name": "stdout",
     "output_type": "stream",
     "text": [
      "\n",
      "stw describe:\n",
      "          body stocktwitsSentiment\n",
      "count   220419              220419\n",
      "unique  192189                   2\n",
      "top      $TSLA             Bullish\n",
      "freq      1100              164615\n",
      "\n",
      "stw info:\n",
      "<class 'pandas.core.frame.DataFrame'>\n",
      "Int64Index: 220419 entries, 0 to 506511\n",
      "Data columns (total 2 columns):\n",
      "body                   220419 non-null object\n",
      "stocktwitsSentiment    220419 non-null object\n",
      "dtypes: object(2)\n",
      "memory usage: 5.0+ MB\n",
      "None\n",
      "\n",
      "Unique stocktwitsSentiment values:\n",
      "['Bearish' 'Bullish']\n"
     ]
    }
   ],
   "source": [
    "# only keep id, body and stocktwitssentiment columns\n",
    "stw = stw.loc[:,['body','stocktwitsSentiment']]\n",
    "\n",
    "#concat additional dataframes to main dataframe\n",
    "stw = pd.concat([stw,df_add_bull, df_add_bear],ignore_index=True, sort=True)\n",
    "\n",
    "# exclude rows without a sentiment\n",
    "stw = stw[stw['stocktwitsSentiment']!='None']\n",
    "\n",
    "print('\\nstw describe:')\n",
    "print(stw.describe())\n",
    "\n",
    "print('\\nstw info:')\n",
    "print(stw.info())\n",
    "\n",
    "print('\\nUnique stocktwitsSentiment values:')\n",
    "print(stw.stocktwitsSentiment.unique())"
   ]
  },
  {
   "cell_type": "markdown",
   "metadata": {},
   "source": [
    "# Exploratory Analysis"
   ]
  },
  {
   "cell_type": "markdown",
   "metadata": {},
   "source": [
    "## Info and Counts"
   ]
  },
  {
   "cell_type": "code",
   "execution_count": 7,
   "metadata": {},
   "outputs": [
    {
     "name": "stdout",
     "output_type": "stream",
     "text": [
      "Bullish\n",
      "<class 'pandas.core.frame.DataFrame'>\n",
      "Int64Index: 164615 entries, 3 to 505911\n",
      "Data columns (total 2 columns):\n",
      "body                   164615 non-null object\n",
      "stocktwitsSentiment    164615 non-null object\n",
      "dtypes: object(2)\n",
      "memory usage: 3.8+ MB\n",
      "None\n",
      "\n",
      "\n",
      "Bearish\n",
      "<class 'pandas.core.frame.DataFrame'>\n",
      "Int64Index: 55804 entries, 0 to 506511\n",
      "Data columns (total 2 columns):\n",
      "body                   55804 non-null object\n",
      "stocktwitsSentiment    55804 non-null object\n",
      "dtypes: object(2)\n",
      "memory usage: 1.3+ MB\n",
      "None\n"
     ]
    },
    {
     "data": {
      "text/plain": [
       "<Figure size 640x480 with 1 Axes>"
      ]
     },
     "metadata": {},
     "output_type": "display_data"
    }
   ],
   "source": [
    "print('Bullish')\n",
    "print(stw[stw['stocktwitsSentiment']=='Bullish'].info())\n",
    "print('\\n')\n",
    "print('Bearish')\n",
    "print(stw[stw['stocktwitsSentiment']=='Bearish'].info())\n",
    "\n",
    "import matplotlib.pyplot as plt\n",
    "\n",
    "ax = stw['stocktwitsSentiment'].value_counts(sort=False).plot(kind='barh')\n",
    "ax.set_xlabel('Number of Samples')\n",
    "ax.set_ylabel('Sentiment')\n",
    "plt.show()"
   ]
  },
  {
   "cell_type": "markdown",
   "metadata": {},
   "source": [
    "## Wordclouds for Bullish and Bearish"
   ]
  },
  {
   "cell_type": "code",
   "execution_count": 8,
   "metadata": {},
   "outputs": [
    {
     "data": {
      "image/png": "[encoded data removed]",
      "text/plain": [
       "<Figure size 864x864 with 1 Axes>"
      ]
     },
     "metadata": {
      "needs_background": "light"
     },
     "output_type": "display_data"
    },
    {
     "data": {
      "image/png": "[encoded data removed]",
      "text/plain": [
       "<Figure size 864x864 with 1 Axes>"
      ]
     },
     "metadata": {
      "needs_background": "light"
     },
     "output_type": "display_data"
    }
   ],
   "source": [
    "from wordcloud import WordCloud, STOPWORDS\n",
    "stopwords = set(STOPWORDS)\n",
    "\n",
    "def show_wordcloud(data, title = None):\n",
    "    wordcloud = WordCloud(\n",
    "        background_color='white',\n",
    "        stopwords=stopwords,\n",
    "        max_words=50,\n",
    "        max_font_size=40, \n",
    "        scale=3,\n",
    "        random_state=1\n",
    "    ).generate(str(data))\n",
    "\n",
    "    fig = plt.figure(1, figsize=(12, 12))\n",
    "    plt.axis('off')\n",
    "    if title: \n",
    "        fig.suptitle(title, fontsize=20)\n",
    "        fig.subplots_adjust(top=2.3)\n",
    "\n",
    "    plt.imshow(wordcloud)\n",
    "    plt.show()\n",
    "    \n",
    "show_wordcloud(stw[stw['stocktwitsSentiment']=='Bullish'])\n",
    "show_wordcloud(stw[stw['stocktwitsSentiment']=='Bearish'])"
   ]
  },
  {
   "cell_type": "markdown",
   "metadata": {},
   "source": [
    "## Exploratory Sentiment Analysis"
   ]
  },
  {
   "cell_type": "code",
   "execution_count": 9,
   "metadata": {},
   "outputs": [
    {
     "name": "stdout",
     "output_type": "stream",
     "text": [
      "Bullish\n",
      "pos: 0.10627439176259758\n",
      "neu: 0.84476378823315\n",
      "neg: 0.04891316708683899\n",
      "\n",
      "\n",
      "Bearish\n",
      "pos: 0.08228411941796286\n",
      "neu: 0.828657264712207\n",
      "neg: 0.0890056268367859\n"
     ]
    }
   ],
   "source": [
    "from vaderSentiment.vaderSentiment import SentimentIntensityAnalyzer\n",
    "analyser = SentimentIntensityAnalyzer()\n",
    "\n",
    "def sentiment_analyzer_scores(sentence):\n",
    "    score = analyser.polarity_scores(sentence)\n",
    "    print(\"{:-<40} {}\".format(sentence, str(score)))\n",
    "\n",
    "if (sentimentAnalysis_enabled == True):\n",
    "    \n",
    "    bullish_pos = np.array([])\n",
    "    bullish_neu = np.array([])\n",
    "    bullish_neg = np.array([])\n",
    "\n",
    "    bearish_pos = np.array([])\n",
    "    bearish_neu = np.array([])\n",
    "    bearish_neg = np.array([])\n",
    "\n",
    "    for index, row in stw.iterrows(): \n",
    "      scores = analyser.polarity_scores(row['body'])\n",
    "      if row['stocktwitsSentiment'] == 'Bullish':\n",
    "        bullish_pos = np.append(bullish_pos, scores['pos'])\n",
    "        bullish_neu = np.append(bullish_neu, scores['neu'])\n",
    "        bullish_neg = np.append(bullish_neg, scores['neg'])\n",
    "\n",
    "      if row['stocktwitsSentiment'] == 'Bearish':\n",
    "        bearish_pos = np.append(bearish_pos, scores['pos'])\n",
    "        bearish_neu = np.append(bearish_neu, scores['neu'])\n",
    "        bearish_neg = np.append(bearish_neg, scores['neg'])\n",
    "\n",
    "    print('Bullish')\n",
    "    print('pos: ' + str(np.mean(bullish_pos)))\n",
    "    print('neu: ' + str(np.mean(bullish_neu)))\n",
    "    print('neg: ' + str(np.mean(bullish_neg)))\n",
    "    print('\\n')\n",
    "    print('Bearish')\n",
    "    print('pos: ' + str(np.mean(bearish_pos)))\n",
    "    print('neu: ' + str(np.mean(bearish_neu)))\n",
    "    print('neg: ' + str(np.mean(bearish_neg)))\n"
   ]
  },
  {
   "cell_type": "markdown",
   "metadata": {},
   "source": [
    "# Data Preprocessing "
   ]
  },
  {
   "cell_type": "markdown",
   "metadata": {},
   "source": [
    "## Data Cleaning, Tokenization, Remove Punctuation, Remove StopWords, Lemmatize"
   ]
  },
  {
   "cell_type": "code",
   "execution_count": 10,
   "metadata": {},
   "outputs": [],
   "source": [
    "from nltk.tokenize import word_tokenize, RegexpTokenizer\n",
    "from nltk.corpus import stopwords\n",
    "from nltk import punkt\n",
    "from nltk.stem import WordNetLemmatizer\n",
    "from nltk.corpus import wordnet"
   ]
  },
  {
   "cell_type": "code",
   "execution_count": 11,
   "metadata": {},
   "outputs": [],
   "source": [
    "from sklearn.base import BaseEstimator, TransformerMixin\n",
    "\n",
    "class MyTextPreprocessor(BaseEstimator, TransformerMixin):  \n",
    "    \"\"\"\n",
    "    custom transformer: applies cleaning and text preprocessing to given input text\n",
    "    \"\"\"\n",
    "    \n",
    "    def __init__(self):\n",
    "        self.tokenizer = RegexpTokenizer(r'\\w+') \n",
    "        self.stop_words = set(stopwords.words('english'))\n",
    "        self.lemmatizer = WordNetLemmatizer()\n",
    "        self.blacklist = self.createBlacklist()\n",
    "    \n",
    "    def createBlacklist(self):\n",
    "        \"\"\"\n",
    "        blacklist for cashtags/tickers and company names\n",
    "        \"\"\"\n",
    "\n",
    "        wl = pd.read_csv('input/Watchlist.csv')\n",
    "\n",
    "        symbollist = wl['symbol (S)']\n",
    "        namelist = wl['name (S)']\n",
    "        blacklist = []\n",
    "\n",
    "        blacklist = self.addToBlacklist(symbollist, blacklist)\n",
    "        blacklist = self.addToBlacklist(namelist, blacklist)\n",
    "\n",
    "        # manually added entries\n",
    "        blacklist.append('CMG')\n",
    "        blacklist.append('BTC')\n",
    "        blacklist.append('Alphabet')\n",
    "        blacklist.append('GDX')\n",
    "        blacklist.append('TSLQ')\n",
    "        blacklist.append('PCG')\n",
    "        blacklist.append('QQQ')\n",
    "        blacklist.append('MNK')\n",
    "        blacklist.append('ENDP')\n",
    "        blacklist.append('TEA')\n",
    "        blacklist.append('AMD')\n",
    "        blacklist.append('Google')\n",
    "        blacklist.append('Snap')\n",
    "        blacklist.append('EOD')\n",
    "        blacklist.append('EOW')\n",
    "        blacklist.append('NFLX')\n",
    "        \n",
    "        return blacklist\n",
    "\n",
    "    def addToBlacklist(self, inputlist, blacklist):\n",
    "        for element in inputlist :\n",
    "            if(element!='Anheuser-Busch' and element!='Coca-Cola'):\n",
    "                blacklist.append(element)\n",
    "                blacklist.append(element.lower())\n",
    "                blacklist.append(element.upper())\n",
    "        return blacklist\n",
    "        \n",
    "    def clean_text(self, text):\n",
    "        \"\"\"\n",
    "        remove cashtags/tickers, hashtags, mentions, links etc.\n",
    "        \"\"\"\n",
    "        text = re.sub('\\s+', ' ', text)\n",
    "        text = text.strip()\n",
    "\n",
    "        #remove cashtags/tickers and company names\n",
    "        for element in self.blacklist:\n",
    "            pattern = element + '\\s'\n",
    "            text = re.sub(element,'',text)   \n",
    "        #remove \\n and \\t\n",
    "        text = re.sub('\\t', '', text)\n",
    "        text = re.sub('\\n', '', text)\n",
    "        #remove all hastag mentions\n",
    "        text = re.sub(r'#\\S+', '', text)\n",
    "        # remove @username \n",
    "        text = re.sub('@[^\\s]+','',text)\n",
    "        #remove all @ mentions\n",
    "        text = re.sub(r'@\\S+', '', text)\n",
    "        # remove $, S&amp; \n",
    "        # remove \\U000...\n",
    "        text = re.sub('\\$|S&amp;|\\\\U0001f929|\\\\U0001f960|\\\\U0001f971','',text)\n",
    "        # remove all numbers\n",
    "        text = re.sub('\\d+','',text)\n",
    "        #Remove www.* and https?://*\n",
    "        text = re.sub('((www\\.[^\\s]+)|(https?://[^\\s]+))',' ',text)\n",
    "        text = re.sub(r'http\\S+', '', text)\n",
    "        \n",
    "        text = re.sub('\\s+', ' ', text)\n",
    "        text = text.strip()\n",
    "        \n",
    "        return text\n",
    "\n",
    "    def get_wordnet_pos(self, word):\n",
    "        \"\"\"\n",
    "        Map POS tag to first character lemmatize() accepts\n",
    "        \"\"\"\n",
    "        tag = nltk.pos_tag([word])[0][1][0].upper()\n",
    "        tag_dict = {\"J\": wordnet.ADJ,\n",
    "                    \"N\": wordnet.NOUN,\n",
    "                    \"V\": wordnet.VERB,\n",
    "                    \"R\": wordnet.ADV}\n",
    "        return tag_dict.get(tag, wordnet.NOUN)\n",
    "\n",
    "    def tok_stop_lemm(self,text):\n",
    "        \"\"\"\n",
    "        tokenize, remove stopwords, lemmatize\n",
    "        \"\"\"\n",
    "        tokenized_text = self.tokenizer.tokenize(text) #tokenize text and remove punctuation\n",
    "        tokenized_text_wo_stopwods = [w for w in tokenized_text if not w in self.stop_words] #remove stopwords from the list of tokenized words\n",
    "        lemmatized_output = ' '.join([self.lemmatizer.lemmatize(word, self.get_wordnet_pos(word)) for word in tokenized_text_wo_stopwods]) # lemmatize\n",
    "        return lemmatized_output\n",
    "\n",
    "    \n",
    "    def transform(self, X, **kwargs):\n",
    "        \"\"\"\n",
    "        an abstract method that is used to transform according to what happend in the fit method\n",
    "        :param X: features - Dataframe\n",
    "        :param kwargs: free parameters - dictionary\n",
    "        :return: X: the transformed data - Dataframe\n",
    "        \"\"\"\n",
    "        \n",
    "        if isinstance(X, pd.Series):\n",
    "            X = X.apply(self.clean_text)\n",
    "            X = X.apply(self.tok_stop_lemm)\n",
    "        elif isinstance(X, pd.DataFrame):\n",
    "            X = X.apply(self.clean_text, axis = 1)\n",
    "            X = X.apply(self.tok_stop_lemm, axis = 1)\n",
    "        elif isinstance(X, list):\n",
    "            X = map(self.clean_text, X)\n",
    "            X = map(self.tok_stop_lemm, X)\n",
    "        else:\n",
    "            raise AttributeError('Unsupported Datatype found')\n",
    "        \n",
    "        return X\n",
    "    \n",
    "    def fit(self, X, y=None):\n",
    "        \"\"\"\n",
    "        an abstract method that is used to fit the step and to learn by examples\n",
    "        :param X: features - Dataframe\n",
    "        :param y: target vector - Series\n",
    "        :param kwargs: free parameters - dictionary\n",
    "        :return: self: the class object - an instance of the transformer - Transformer\n",
    "        \"\"\"\n",
    "        return self"
   ]
  },
  {
   "cell_type": "markdown",
   "metadata": {},
   "source": [
    "# Model Building"
   ]
  },
  {
   "cell_type": "code",
   "execution_count": 12,
   "metadata": {},
   "outputs": [
    {
     "name": "stdout",
     "output_type": "stream",
     "text": [
      "Pipeline steps:\n",
      "[('preprocess_text', MyTextPreprocessor()), ('vectorizer', CountVectorizer(analyzer='word', binary=False, decode_error='strict',\n",
      "                dtype=<class 'numpy.int64'>, encoding='utf-8', input='content',\n",
      "                lowercase=True, max_df=1.0, max_features=None, min_df=1,\n",
      "                ngram_range=(1, 3), preprocessor=None,\n",
      "                stop_words=['i', 'me', 'my', 'myself', 'we', 'our', 'ours',\n",
      "                            'ourselves', 'you', \"you're\", \"you've\", \"you'll\",\n",
      "                            \"you'd\", 'your', 'yours', 'yourself', 'yourselves',\n",
      "                            'he', 'him', 'his', 'himself', 'she', \"she's\",\n",
      "                            'her', 'hers', 'herself', 'it', \"it's\", 'its',\n",
      "                            'itself', ...],\n",
      "                strip_accents=None, token_pattern='(?u)\\\\b\\\\w\\\\w+\\\\b',\n",
      "                tokenizer=None, vocabulary=None)), ('classifier', LogisticRegression(C=1.0, class_weight='balanced', dual=False,\n",
      "                   fit_intercept=True, intercept_scaling=1, l1_ratio=None,\n",
      "                   max_iter=100, multi_class='auto', n_jobs=-1, penalty='l2',\n",
      "                   random_state=None, solver='lbfgs', tol=0.0001, verbose=0,\n",
      "                   warm_start=False))]\n",
      "Shapes train:\n",
      "(176335,)\n",
      "(176335,)\n",
      "Shapes test:\n",
      "(44084,)\n",
      "(44084,)\n"
     ]
    },
    {
     "data": {
      "text/plain": [
       "Pipeline(memory=None,\n",
       "         steps=[('preprocess_text', MyTextPreprocessor()),\n",
       "                ('vectorizer',\n",
       "                 CountVectorizer(analyzer='word', binary=False,\n",
       "                                 decode_error='strict',\n",
       "                                 dtype=<class 'numpy.int64'>, encoding='utf-8',\n",
       "                                 input='content', lowercase=True, max_df=1.0,\n",
       "                                 max_features=None, min_df=1,\n",
       "                                 ngram_range=(1, 3), preprocessor=None,\n",
       "                                 stop_words=['i', 'me', 'my', 'myself', 'we',\n",
       "                                             'our', 'ours...\n",
       "                                 strip_accents=None,\n",
       "                                 token_pattern='(?u)\\\\b\\\\w\\\\w+\\\\b',\n",
       "                                 tokenizer=None, vocabulary=None)),\n",
       "                ('classifier',\n",
       "                 LogisticRegression(C=1.0, class_weight='balanced', dual=False,\n",
       "                                    fit_intercept=True, intercept_scaling=1,\n",
       "                                    l1_ratio=None, max_iter=100,\n",
       "                                    multi_class='auto', n_jobs=-1, penalty='l2',\n",
       "                                    random_state=None, solver='lbfgs',\n",
       "                                    tol=0.0001, verbose=0, warm_start=False))],\n",
       "         verbose=False)"
      ]
     },
     "execution_count": 12,
     "metadata": {},
     "output_type": "execute_result"
    }
   ],
   "source": [
    "from sklearn.feature_extraction.text import CountVectorizer, TfidfTransformer, TfidfVectorizer\n",
    "from sklearn.pipeline import Pipeline\n",
    "#from imblearn.pipeline import Pipeline #use imblearn pipeline instead of sklearn.pipeline due to SMOTE\n",
    "from sklearn.model_selection import train_test_split, cross_validate\n",
    "\n",
    "from sklearn.naive_bayes import MultinomialNB\n",
    "from sklearn.linear_model import LogisticRegression\n",
    "#from sklearn.ensemble import RandomForestClassifier\n",
    "#from sklearn.svm import SVC\n",
    "from xgboost import XGBClassifier #https://www.datacamp.com/community/tutorials/xgboost-in-python\n",
    "\n",
    "#from imblearn.over_sampling import SMOTE #oversampling due to highly imbalanced data\n",
    "\n",
    "# Pipeline Building\n",
    "# https://www.kaggle.com/gautham11/building-a-scikit-learn-classification-pipeline\n",
    "\n",
    "pipeline_MultinomialNB = [\n",
    "    # preprocess\n",
    "    ('preprocess_text', MyTextPreprocessor()),\n",
    "    #text to vector\n",
    "    ('vectorizer', CountVectorizer(stop_words=stopwords.words('english'), ngram_range=(1,3))),      \n",
    "    #classifier\n",
    "    ('classifier', MultinomialNB(alpha=0.1, class_prior=None, fit_prior=True)), \n",
    "]\n",
    "\n",
    "pipeline_LogisitcRegression = [\n",
    "    # preprocess\n",
    "    ('preprocess_text', MyTextPreprocessor()),\n",
    "    #text to vector\n",
    "    ('vectorizer', CountVectorizer(stop_words=stopwords.words('english'), ngram_range=(1,3))),\n",
    "    #('vectorizer', TfidfVectorizer(use_idf = True, stop_words=stopwords.words('english'), ngram_range=(1,3))), \n",
    "    #oversampling due to highly imbalanced data\n",
    "    #('smt', SMOTE()),\n",
    "    #classifier\n",
    "    ('classifier', LogisticRegression(class_weight='balanced' , n_jobs=-1)), \n",
    "]\n",
    "\n",
    "pipeline_XGB = [\n",
    "    # preprocess\n",
    "    ('preprocess_text', MyTextPreprocessor()),\n",
    "    #text to vector\n",
    "    ('vectorizer', CountVectorizer(stop_words=stopwords.words('english'), ngram_range=(1,3))),\n",
    "    #('vectorizer', TfidfVectorizer(use_idf = False, stop_words=stopwords.words('english'), ngram_range=(1,3))), \n",
    "    #oversampling due to highly imbalanced data\n",
    "    #('smt', SMOTE()),\n",
    "    #classifier\n",
    "    ('classifier', XGBClassifier()), #https://xgboost.readthedocs.io/en/latest/parameter.html#general-parameters\n",
    "\n",
    "]\n",
    "    \n",
    "pipeline = Pipeline(pipeline_LogisitcRegression)\n",
    "\n",
    "print('Pipeline steps:')\n",
    "print(pipeline.steps)\n",
    "\n",
    "# Seperate train and test set\n",
    "# https://scikit-learn.org/stable/modules/generated/sklearn.model_selection.train_test_split.html\n",
    "# X --> body_preprocessed (Features)\n",
    "# y --> stocktwitsSentiment (Label)\n",
    "\n",
    "X_train, X_test, y_train, y_test = train_test_split(stw['body'], stw['stocktwitsSentiment'], test_size=0.2, random_state=123)\n",
    "\n",
    "print('Shapes train:')\n",
    "print(X_train.shape)\n",
    "print(y_train.shape)\n",
    "\n",
    "print('Shapes test:')\n",
    "print(X_test.shape)\n",
    "print(y_test.shape)\n",
    "\n",
    "# use pipeline to train the model\n",
    "pipeline.fit(X_train,y_train)"
   ]
  },
  {
   "cell_type": "code",
   "execution_count": 17,
   "metadata": {},
   "outputs": [
    {
     "name": "stdout",
     "output_type": "stream",
     "text": [
      "\n",
      "Classification Report:\n",
      "              precision    recall  f1-score   support\n",
      "\n",
      "     Bearish       0.63      0.68      0.65     10379\n",
      "     Bullish       0.90      0.88      0.89     33705\n",
      "\n",
      "    accuracy                           0.83     44084\n",
      "   macro avg       0.76      0.78      0.77     44084\n",
      "weighted avg       0.84      0.83      0.83     44084\n",
      "\n",
      "\n",
      "Confusion Matrix:\n",
      "[[ 7065  3314]\n",
      " [ 4138 29567]]\n"
     ]
    },
    {
     "data": {
      "image/png": "[encoded data removed]",
      "text/plain": [
       "<Figure size 432x288 with 2 Axes>"
      ]
     },
     "metadata": {
      "needs_background": "light"
     },
     "output_type": "display_data"
    },
    {
     "name": "stdout",
     "output_type": "stream",
     "text": [
      "accuracy: 0.8309590781235823\n",
      "f1_score: 0.8331401278630944\n"
     ]
    }
   ],
   "source": [
    "#use pipeline to make predictions on the test set\n",
    "predictions = pipeline.predict(X_test)\n",
    "\n",
    "from sklearn.metrics import confusion_matrix, classification_report, accuracy_score, roc_auc_score, f1_score, average_precision_score\n",
    "\n",
    "#report\n",
    "print('\\nClassification Report:')\n",
    "print(classification_report(predictions,y_test))\n",
    "\n",
    "print('\\nConfusion Matrix:')\n",
    "conf_mat = confusion_matrix(predictions,y_test)\n",
    "print(conf_mat)\n",
    "\n",
    "labels = ['Bearish', 'Bullish']\n",
    "fig = plt.figure()\n",
    "ax = fig.add_subplot(111)\n",
    "cax = ax.matshow(conf_mat, cmap=plt.cm.Blues)\n",
    "fig.colorbar(cax)\n",
    "ax.set_xticklabels([''] + labels)\n",
    "ax.set_yticklabels([''] + labels)\n",
    "plt.xlabel('Predicted')\n",
    "plt.ylabel('Expected')\n",
    "plt.show()\n",
    "\n",
    "#accuracy and f1_score\n",
    "ac_score_calc = str(accuracy_score(predictions,y_test))\n",
    "f1_score_calc = str(f1_score(predictions,y_test, average = 'weighted'))\n",
    "print('accuracy: ' + ac_score_calc)\n",
    "print('f1_score: ' + f1_score_calc)\n",
    "#print('\\\\average_precision_score: ' + str(average_precision_score(predictions,y_test)))"
   ]
  },
  {
   "cell_type": "markdown",
   "metadata": {},
   "source": [
    "# Hyper Parameter Tuning using GridSearch"
   ]
  },
  {
   "cell_type": "code",
   "execution_count": 14,
   "metadata": {},
   "outputs": [],
   "source": [
    "from sklearn.model_selection import GridSearchCV\n",
    "\n",
    "param_grid = [\n",
    "  {\n",
    "    #Vectorizer\n",
    "    'vectorizer__ngram_range': [(1, 1), (1, 2), (1, 3)],\n",
    "    #Classifier\n",
    "    'classifier' : [MultinomialNB()],\n",
    "    'classifier__fit_prior': (True, False),\n",
    "    'classifier__alpha': (1.0, 0.5, 0.2, 0.1, 0.05),\n",
    "  },\n",
    "  {\n",
    "    #Vectorizer\n",
    "    'vectorizer__ngram_range': [(1, 1), (1, 2), (1, 3)],\n",
    "    #Classifier\n",
    "    'classifier' : [LogisticRegression(class_weight='balanced', n_jobs=-1)],\n",
    "    'classifier__C' : [1.0 , 2.0, 0.5] #Inverse of regularization strength; must be a positive float. Like in support vector machines, smaller values specify stronger regularization.\n",
    "  },\n",
    "\n",
    "  # Hyperparameter Tuning with XGBoost\n",
    "  #https://www.kaggle.com/tilii7/hyperparameter-grid-search-with-xgboost\n",
    "  {\n",
    "    #Classifier\n",
    "    'classifier': [XGBClassifier()],\n",
    "    'classifier__learning_rate': [0.01],\n",
    "    'classifier__max_depth': [3, 4, 5, 6, 7, 8], #Maximum depth of a tree. Increasing this value will make the model more complex and more likely to overfit. 0 is only accepted in lossguided growing policy when tree_method is set as hist and it indicates no limit on depth. Beware that XGBoost aggressively consumes memory when training a deep tree.\n",
    "    'classifier__subsample': [0.5, 0.6, 0.8, 1.0], #Subsample ratio of the training instances. Setting it to 0.5 means that XGBoost would randomly sample half of the training data prior to growing trees. and this will prevent overfitting. Subsampling will occur once in every boosting iteration.\n",
    "    'classifier__min_split_loss': [0, 0.5, 1, 1.5, 2, 5], #Minimum loss reduction required to make a further partition on a leaf node of the tree. The larger gamma is, the more conservative the algorithm will be.\n",
    "    'classifier__min_child_weight': [1, 5, 10], #Minimum sum of instance weight (hessian) needed in a child. If the tree partition step results in a leaf node with the sum of instance weight less than min_child_weight, then the building process will give up further partitioning. In linear regression task, this simply corresponds to minimum number of instances needed to be in each node. The larger min_child_weight is, the more conservative the algorithm will be.\n",
    "  }\n",
    "]\n",
    "\n",
    "if(gridsearch_enabled==True):\n",
    "    # GridSearch Sklearn\n",
    "    #https://scikit-learn.org/stable/modules/generated/sklearn.model_selection.GridSearchCV.html\n",
    "    cv_grid = GridSearchCV(pipeline, param_grid = param_grid,  n_jobs=-1, scoring='f1_weighted') #scoring! #https://scikit-learn.org/stable/modules/generated/sklearn.model_selection.GridSearchCV.html\n",
    "\n",
    "    cv_grid.fit(X_train,y_train)\n",
    "\n",
    "    print('\\nbest_params_')\n",
    "    print(cv_grid.best_params_)\n",
    "\n",
    "    y_predict = cv_grid.predict(X_test)\n",
    "\n",
    "    accuracy = accuracy_score(y_test, y_predict)\n",
    "    print('\\naccuracy of the best classifier after CV is %.3f%%' % (accuracy*100))\n",
    "\n",
    "    f1 = f1_score(y_test, y_predict, average = 'weighted')\n",
    "    print('\\\\f1_score of the best classifier after CV is %.3f%%' % (f1*100))"
   ]
  },
  {
   "cell_type": "markdown",
   "metadata": {},
   "source": [
    "# Model Persistence"
   ]
  },
  {
   "cell_type": "code",
   "execution_count": 15,
   "metadata": {},
   "outputs": [],
   "source": [
    "import dill\n",
    "import datetime\n",
    "import cloudpickle\n",
    "\n",
    "#https://www.mikulskibartosz.name/how-to-save-a-machine-learning-model-into-a-file/\n",
    "\n",
    "toBePersisted = dict({\n",
    "    'model': pipeline,\n",
    "    'metadata': {\n",
    "        'name': '',\n",
    "        'author': 'Markus Schaeffer',\n",
    "        'date': datetime.datetime.now(),\n",
    "        'metrics': {\n",
    "            'accuracy': ac_score_calc,\n",
    "            'F1': f1_score_calc\n",
    "        }\n",
    "    }\n",
    "})\n",
    "\n",
    "#persistance\n",
    "with open('output/model.pk', 'wb') as f:\n",
    "    dill.dump(toBePersisted, f)"
   ]
  },
  {
   "cell_type": "markdown",
   "metadata": {},
   "source": [
    "# Manual Tests"
   ]
  },
  {
   "cell_type": "code",
   "execution_count": 16,
   "metadata": {},
   "outputs": [
    {
     "name": "stdout",
     "output_type": "stream",
     "text": [
      "\n",
      "\n",
      "['Bullish']\n",
      "Bullish 0.5712553461329614\n",
      "Bearish 0.42874465386703864\n",
      "\n",
      "I like this stock\n",
      "['Bullish']\n",
      "Bullish 0.6845476945776527\n",
      "Bearish 0.31545230542234726\n",
      "\n",
      "buy this one\n",
      "['Bullish']\n",
      "Bullish 0.7360461049315117\n",
      "Bearish 0.2639538950684883\n",
      "\n",
      "sell that stock\n",
      "['Bearish']\n",
      "Bullish 0.45931747343145374\n",
      "Bearish 0.5406825265685462\n",
      "\n",
      "good profits\n",
      "['Bullish']\n",
      "Bullish 0.6073576966131948\n",
      "Bearish 0.39264230338680517\n",
      "\n",
      "weak earnings\n",
      "['Bearish']\n",
      "Bullish 0.427347989449373\n",
      "Bearish 0.572652010550627\n",
      "\n",
      "This one will go down, i hate this stock. Very Bearish\n",
      "['Bearish']\n",
      "Bullish 0.060975776652498995\n",
      "Bearish 0.939024223347501\n"
     ]
    }
   ],
   "source": [
    "#load\n",
    "input_file = open('output/model.pk', 'rb')\n",
    "loaded = dill.load(input_file)\n",
    "model = loaded['model']\n",
    "\n",
    "def classify(string):\n",
    "    print('\\n' + string)\n",
    "    print(model.predict([string]))\n",
    "    print('Bullish ' + str(model.predict_proba([string])[0][1]))\n",
    "    print('Bearish ' + str(model.predict_proba([string])[0][0]))\n",
    "\n",
    "classify('')\n",
    "classify('I like this stock')\n",
    "classify('buy this one')\n",
    "classify('sell that stock')\n",
    "classify('good profits')\n",
    "classify('weak earnings')\n",
    "classify('This one will go down, i hate this stock. Very Bearish')\n"
   ]
  }
 ],
 "metadata": {
  "kernelspec": {
   "display_name": "Python 3",
   "language": "python",
   "name": "python3"
  },
  "language_info": {
   "codemirror_mode": {
    "name": "ipython",
    "version": 3
   },
   "file_extension": ".py",
   "mimetype": "text/x-python",
   "name": "python",
   "nbconvert_exporter": "python",
   "pygments_lexer": "ipython3",
   "version": "3.6.8"
  }
 },
 "nbformat": 4,
 "nbformat_minor": 2
}
